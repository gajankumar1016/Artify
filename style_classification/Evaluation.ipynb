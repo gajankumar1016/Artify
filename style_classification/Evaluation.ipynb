{
 "cells": [
  {
   "cell_type": "code",
   "execution_count": 4,
   "metadata": {},
   "outputs": [],
   "source": [
    "from keras.models import load_model, model_from_json\n",
    "from keras.preprocessing.image import ImageDataGenerator\n",
    "from sklearn.metrics import classification_report, confusion_matrix\n",
    "\n",
    "\n",
    "import os\n",
    "import matplotlib.pyplot as plt\n",
    "import numpy as np\n",
    "from skimage.transform import resize\n",
    "import scipy\n",
    "from scipy import ndimage\n",
    "\n",
    "dev_data_dir = \"../gajankumar1016/Artify/style_classification/dev\"\n",
    "test_data_dir = \"../gajankumar1016/Artify/style_classification/test\"\n",
    "img_width, img_height= 256, 256\n",
    "nb_dev_samples = 1300\n",
    "nb_test_samples = 1300\n",
    "batch_size = 128\n",
    "\n",
    "d = test_data_dir\n",
    "\n",
    "# for art_style in os.listdir(d):\n",
    "#     i = 0\n",
    "#     subdir = os.path.join(d, art_style)\n",
    "#     for img in os.listdir(subdir):\n",
    "#         if i % 20000 == 0:\n",
    "#             img_path = os.path.join(subdir, img)\n",
    "#             img = np.array(ndimage.imread(img_path, flatten=False))\n",
    "#             np_image_arr = scipy.misc.imresize(img, size=(img_width, img_height))\n",
    "#             plt.imshow(img)\n",
    "#             plt.show()\n",
    "            \n",
    "#         i += 1\n",
    "\n",
    "# style_dir = os.path.join(dev_data_dir, 'Impressionism')\n",
    "# i = 0\n",
    "# for img in os.listdir(style_dir):\n",
    "#     if i % 20 == 0:\n",
    "#         img_path = os.path.join(style_dir, img)\n",
    "#         img = np.array(ndimage.imread(img_path, flatten=False))\n",
    "#         img = scipy.misc.imresize(img, size=(img_width, img_height))\n",
    "#         plt.imshow(img)\n",
    "#         plt.show()\n",
    "    \n",
    "#     i += 1\n",
    "    "
   ]
  },
  {
   "cell_type": "code",
   "execution_count": 5,
   "metadata": {},
   "outputs": [
    {
     "name": "stdout",
     "output_type": "stream",
     "text": [
      "Found 1300 images belonging to 13 classes.\n",
      "{'Romanticism': 11, 'Post_Impressionism': 8, 'Northern_Renaissance': 7, 'Cubism': 3, 'Rococo': 10, 'Impressionism': 5, 'Expressionism': 4, 'Naive_Art_Primitivism': 6, 'Art_Nouveau_Modern': 1, 'Abstract_Expressionism': 0, 'Baroque': 2, 'Symbolism': 12, 'Realism': 9}\n"
     ]
    }
   ],
   "source": [
    "test_datagen = ImageDataGenerator(\n",
    "    rescale = 1./255\n",
    ")\n",
    "\n",
    "test_generator = test_datagen.flow_from_directory(\n",
    "    dev_data_dir,\n",
    "    target_size = (img_height, img_width),\n",
    "    class_mode = \"categorical\",\n",
    "    batch_size=batch_size,\n",
    "    shuffle=True,\n",
    "    seed=42\n",
    ")\n",
    "\n",
    "print(test_generator.class_indices)\n",
    "\n",
    "model = load_model(\"VGG_model_weights2.h5\")"
   ]
  },
  {
   "cell_type": "code",
   "execution_count": 7,
   "metadata": {},
   "outputs": [
    {
     "name": "stdout",
     "output_type": "stream",
     "text": [
      "['loss', 'acc']\n",
      "10/10 [==============================] - 34s 3s/step\n"
     ]
    },
    {
     "data": {
      "text/plain": [
       "[2.0059885501861574, 0.4953125]"
      ]
     },
     "execution_count": 7,
     "metadata": {},
     "output_type": "execute_result"
    }
   ],
   "source": [
    "print(model.metrics_names)\n",
    "model.evaluate_generator(generator=test_generator, steps=nb_test_samples//(batch_size), verbose=1)"
   ]
  },
  {
   "cell_type": "code",
   "execution_count": 13,
   "metadata": {},
   "outputs": [],
   "source": [
    "#Confusion Matrix and Classification Report\n",
    "Y_pred = model.predict_generator(test_generator, nb_dev_samples // batch_size+1)\n",
    "y_pred = np.argmax(Y_pred, axis=1)"
   ]
  },
  {
   "cell_type": "code",
   "execution_count": 15,
   "metadata": {},
   "outputs": [
    {
     "name": "stdout",
     "output_type": "stream",
     "text": [
      "Confusion Matrix\n",
      "[[14  5 14  3  6  3  7 14  5  8  7  8  6]\n",
      " [ 6  7  9  5 10  6  8 11 10  7  8 10  3]\n",
      " [ 9  5  7 10  9  8  7  8  8  8  6  5 10]\n",
      " [ 9  9 11  8  8  2  7  8  5  9  7 10  7]\n",
      " [ 7  8 10  6  8  3 11  8  7  9  4 14  5]\n",
      " [ 9 10  8  3 10  5 11  7  9 11  8  5  4]\n",
      " [12  6  9  7 10 10  5  9  3  9  8  7  5]\n",
      " [ 9  8  3  8 12  6 13 13  4 11  2  6  5]\n",
      " [ 7  4  9  8  7  4 12  5  5  6 10  9 14]\n",
      " [ 8  5  8  2 12  2 13 12  4 10  7 11  6]\n",
      " [ 9  3  5  7  6 10 13 15  6  5  1  8 12]\n",
      " [ 2  7 10  9  8  7  7  9  7 12  5  9  8]\n",
      " [ 6  8  7  8  9  8  7  8  4  7 12 12  4]]\n",
      "Classification Report\n",
      "                        precision    recall  f1-score   support\n",
      "\n",
      "Abstract_Expressionism       0.13      0.14      0.14       100\n",
      "    Art_Nouveau_Modern       0.08      0.07      0.08       100\n",
      "               Baroque       0.06      0.07      0.07       100\n",
      "                Cubism       0.10      0.08      0.09       100\n",
      "         Expressionism       0.07      0.08      0.07       100\n",
      "         Impressionism       0.07      0.05      0.06       100\n",
      " Naive_Art_Primitivism       0.04      0.05      0.05       100\n",
      "  Northern_Renaissance       0.10      0.13      0.11       100\n",
      "    Post_Impressionism       0.06      0.05      0.06       100\n",
      "               Realism       0.09      0.10      0.09       100\n",
      "                Rococo       0.01      0.01      0.01       100\n",
      "           Romanticism       0.08      0.09      0.08       100\n",
      "             Symbolism       0.04      0.04      0.04       100\n",
      "\n",
      "             micro avg       0.07      0.07      0.07      1300\n",
      "             macro avg       0.07      0.07      0.07      1300\n",
      "          weighted avg       0.07      0.07      0.07      1300\n",
      "\n"
     ]
    }
   ],
   "source": [
    "print('Confusion Matrix')\n",
    "print(confusion_matrix(test_generator.classes, y_pred))\n",
    "print('Classification Report')\n",
    "target_names = [style for style, idx in sorted(test_generator.class_indices.items(), key=lambda t : t[1])]\n",
    "print(classification_report(test_generator.classes, y_pred, target_names=target_names))"
   ]
  },
  {
   "cell_type": "code",
   "execution_count": 12,
   "metadata": {},
   "outputs": [],
   "source": [
    "# def get_style_classes(root_dir):\n",
    "#     return [d for d in os.listdir(root_dir)]\n",
    "        \n",
    "# style_classes = get_style_classes(dev_data_dir)\n",
    "# print(style_classes)"
   ]
  },
  {
   "cell_type": "code",
   "execution_count": null,
   "metadata": {},
   "outputs": [],
   "source": []
  }
 ],
 "metadata": {
  "kernelspec": {
   "display_name": "Python 3",
   "language": "python",
   "name": "python3"
  },
  "language_info": {
   "codemirror_mode": {
    "name": "ipython",
    "version": 3
   },
   "file_extension": ".py",
   "mimetype": "text/x-python",
   "name": "python",
   "nbconvert_exporter": "python",
   "pygments_lexer": "ipython3",
   "version": "3.5.3"
  }
 },
 "nbformat": 4,
 "nbformat_minor": 2
}
